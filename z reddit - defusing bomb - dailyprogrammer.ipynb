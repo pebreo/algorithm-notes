{
 "cells": [
  {
   "cell_type": "code",
   "execution_count": null,
   "metadata": {
    "collapsed": true
   },
   "outputs": [],
   "source": [
    "## Defusing the bomb (easy)\n",
    "https://www.reddit.com/r/dailyprogrammer/comments/5e4mde/20161121_challenge_293_easy_defusing_the_bomb/"
   ]
  },
  {
   "cell_type": "markdown",
   "metadata": {},
   "source": [
    "## My solution"
   ]
  },
  {
   "cell_type": "code",
   "execution_count": 36,
   "metadata": {
    "collapsed": false
   },
   "outputs": [
    {
     "name": "stdout",
     "output_type": "stream",
     "text": [
      "Bomb defused!\n",
      "None\n",
      "Bomb exploded!\n",
      "None\n"
     ]
    }
   ],
   "source": [
    "## Solution\n",
    "def defuse_bomb(cuts):\n",
    "    wire_mapping = {\n",
    "    'W':([],['W','B']), # (wire_name, list_of_should, list_of_shouldnot)\n",
    "    'R':(['G'],[]),\n",
    "    'B':([],['W','G','O']),\n",
    "    'O':(['R','B'],[]),\n",
    "    'G':(['O','W'],[]),\n",
    "    'P':([],['P','G','O','W'])\n",
    "    }\n",
    "    should = []\n",
    "    shouldnot = []\n",
    "    for i,cut in enumerate(cuts):\n",
    "        if i < len(cuts)-1:\n",
    "            if cuts[i+1] not in wire_mapping[cut][0]:\n",
    "                if len(wire_mapping[cut][0]) > 0:\n",
    "                    print(\"Bomb exploded!\")\n",
    "                    return\n",
    "            if cuts[i+1] in wire_mapping[cut][1]:\n",
    "                print(\"Bomb exploded!\")\n",
    "                return\n",
    "    print('Bomb defused!')\n",
    "        \n",
    "\n",
    "\n",
    "print(defuse_bomb(['W','R','G','W']))\n",
    "print(defuse_bomb(['W','R','B','W']))"
   ]
  },
  {
   "cell_type": "code",
   "execution_count": 5,
   "metadata": {
    "collapsed": false
   },
   "outputs": [
    {
     "name": "stdout",
     "output_type": "stream",
     "text": [
      "['G', 'O', 'W']\n",
      "['W', 'B', 'W', 'B']\n",
      "False\n"
     ]
    }
   ],
   "source": [
    "## early bad Solution\n",
    "def defuse_bomb(cuts):\n",
    "    wire_mapping = (\n",
    "    ('W',[],['W','B']), # (wire_name, list_of_should, list_of_shouldnot)\n",
    "    ('R',['G'],[]),\n",
    "    ('B',[],['W','G','O']),\n",
    "    ('O',['R','B'],[]),\n",
    "    ('G',['O','W'],[]),\n",
    "    ('P',[],['P','G','O','W'])\n",
    "    )\n",
    "    should = []\n",
    "    shouldnot = []\n",
    "    for cut in cuts:\n",
    "        for wire in wire_mapping:\n",
    "            if cut == wire[0]:\n",
    "                should += wire[1]\n",
    "                shouldnot += wire[2]\n",
    "    print(should)\n",
    "    print(shouldnot)\n",
    "    for cut in cuts:\n",
    "        # should\n",
    "        if cut not in should:\n",
    "            return False\n",
    "        if cut in shouldnot:\n",
    "            return False\n",
    "        # shouldn't\n",
    "        \n",
    "        # if missing should return false\n",
    "        #if wire\n",
    "        # if including shouldn't return false\n",
    "        \n",
    "        print(cut)\n",
    "\n",
    "print(defuse_bomb(['W','R','G','W']))"
   ]
  },
  {
   "cell_type": "markdown",
   "metadata": {},
   "source": [
    "## Elegant solution\n",
    "\n",
    "\n",
    "This solution using regular expressions and if the\n",
    "wires given matches anything that would make the bomb exploded\n",
    "then we put than into the list combs\n"
   ]
  },
  {
   "cell_type": "code",
   "execution_count": null,
   "metadata": {
    "collapsed": true
   },
   "outputs": [],
   "source": [
    "## Elegant solution \n",
    "\n",
    "\n",
    "import re\n",
    "\"\"\"\n",
    "using zip:\n",
    "zip(['w','r','b'], ['r','b'])\n",
    "gives\n",
    "w r\n",
    "\n",
    "r b\n",
    "\"\"\"\n",
    "\n",
    "def defuse(cuts):\n",
    "  _PATTERN = re.compile('\\A(w[wb]|r[wbrpo]|b[wgo]|o[wgpo]|g[brgp]|p[pgow])\\Z')\n",
    "  combs = []\n",
    "  for a, b in zip(cuts, cuts[1:]):\n",
    "    # If you match any combination that would make the bomb explode\n",
    "    combs.append(_PATTERN.match(a+b))\n",
    "  if not all(combs):\n",
    "    print(\"Bomb defused\")\n",
    "  else:\n",
    "    print(\"Boom!\")\n",
    "\n",
    "defuse(list('wrgw'))"
   ]
  }
 ],
 "metadata": {
  "kernelspec": {
   "display_name": "Python 3",
   "language": "python",
   "name": "python3"
  },
  "language_info": {
   "codemirror_mode": {
    "name": "ipython",
    "version": 3
   },
   "file_extension": ".py",
   "mimetype": "text/x-python",
   "name": "python",
   "nbconvert_exporter": "python",
   "pygments_lexer": "ipython3",
   "version": "3.4.0"
  }
 },
 "nbformat": 4,
 "nbformat_minor": 2
}
