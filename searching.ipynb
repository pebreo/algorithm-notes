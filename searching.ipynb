{
 "cells": [
  {
   "cell_type": "code",
   "execution_count": null,
   "metadata": {
    "collapsed": true
   },
   "outputs": [],
   "source": [
    "## Linear Search"
   ]
  },
  {
   "cell_type": "code",
   "execution_count": 1,
   "metadata": {
    "collapsed": false
   },
   "outputs": [
    {
     "data": {
      "text/plain": [
       "2"
      ]
     },
     "execution_count": 1,
     "metadata": {},
     "output_type": "execute_result"
    }
   ],
   "source": [
    "items = [1,2,3,4]\n",
    "\n",
    "def search(L, value):\n",
    "    for pos, el in enumerate(items):\n",
    "        if el == value:\n",
    "            return pos\n",
    "    return False\n",
    "\n",
    "search(items, 3)"
   ]
  },
  {
   "cell_type": "markdown",
   "metadata": {
    "collapsed": true
   },
   "source": [
    "## Binary Search  - linear"
   ]
  },
  {
   "cell_type": "code",
   "execution_count": null,
   "metadata": {
    "collapsed": true
   },
   "outputs": [],
   "source": [
    "# linear binary search\n",
    "# list must be sorted\n",
    "# returns the position of the found item\n",
    "def binary_search(L, target):\n",
    "  start = 0\n",
    "  end = len(L)-1\n",
    "  middle = (start+end)//2 # round to an integer\n",
    "  \n",
    "  while start <= end:\n",
    "    middle = (start+end)//2 # round to an integer\n",
    "    current = L[middle]\n",
    "    if current == target:\n",
    "      return middle\n",
    "    else:\n",
    "      if target < current:\n",
    "        # move window to the left\n",
    "        end = middle-1\n",
    "        start = start # same start\n",
    "      if target > current:\n",
    "        # move window to the right\n",
    "        start = middle+1\n",
    "        end = end # same end\n",
    "        \n",
    "  return False\n",
    "\n",
    "print(binary_search([1,2,3], 1))\n"
   ]
  },
  {
   "cell_type": "markdown",
   "metadata": {},
   "source": [
    "## Binary search -recursive"
   ]
  },
  {
   "cell_type": "code",
   "execution_count": null,
   "metadata": {
    "collapsed": true
   },
   "outputs": [],
   "source": [
    "\n",
    "# recursive binary tree\n",
    "# list must be sorted\n",
    "# returns the position of the item found\n",
    "def binary_search(L, target):\n",
    "  if len(L) == 0:\n",
    "    return False\n",
    "  else:\n",
    "    end = len(L)-1\n",
    "    start = 0\n",
    "    middle = (start+end) // 2 # round to integer number\n",
    "    current = L[middle]\n",
    "    # if \n",
    "    if current == target:\n",
    "      return middle\n",
    "    else:\n",
    "      if target < current:\n",
    "        # array slice to make the left half of the middle, but not including the middle\n",
    "        return binary_search(L[:middle], target)\n",
    "        \n",
    "      if target > current:\n",
    "         # array slice to make the right of the middle, but not including the middle\n",
    "         return binary_search(L[middle+1:], target)\n",
    "\n",
    "print(binary_search([1,2,3], 3))"
   ]
  }
 ],
 "metadata": {
  "kernelspec": {
   "display_name": "Python 3",
   "language": "python",
   "name": "python3"
  },
  "language_info": {
   "codemirror_mode": {
    "name": "ipython",
    "version": 3
   },
   "file_extension": ".py",
   "mimetype": "text/x-python",
   "name": "python",
   "nbconvert_exporter": "python",
   "pygments_lexer": "ipython3",
   "version": "3.4.0"
  }
 },
 "nbformat": 4,
 "nbformat_minor": 2
}
