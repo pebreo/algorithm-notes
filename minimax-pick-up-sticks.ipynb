{
 "cells": [
  {
   "cell_type": "code",
   "execution_count": null,
   "metadata": {
    "collapsed": true
   },
   "outputs": [],
   "source": [
    "## Minimax in Pick up sticks\n",
    "\n",
    "### Rules\n",
    "* Players can either pick up 1 or 2 sticks\n",
    "* Player loses if, on their turn, there is only 1 stick left\n",
    "* For a player to win, there must be 0 sticks left at the end of their turn"
   ]
  },
  {
   "cell_type": "code",
   "execution_count": 1,
   "metadata": {
    "collapsed": true
   },
   "outputs": [],
   "source": [
    "### Make a node of depth 2 \n",
    "goto pythontutor.com to see nodes"
   ]
  },
  {
   "cell_type": "markdown",
   "metadata": {},
   "source": [
    "## Basic tree creation with 0 plies and 2 children only"
   ]
  },
  {
   "cell_type": "code",
   "execution_count": null,
   "metadata": {
    "collapsed": true
   },
   "outputs": [],
   "source": [
    "class Node(object):\n",
    "    \n",
    "    def __init__(self, plies, player_id, state, utility):\n",
    "      self.player_name = None\n",
    "      if player_id == 1:\n",
    "        self.player_name = 'MAX'\n",
    "      else:\n",
    "        self.player_name = 'MIN'\n",
    "      self.plies = plies\n",
    "      self.player_id = player_id\n",
    "      self.state = state\n",
    "      self.utility = utility\n",
    "      self.children = []\n",
    "      self.create_children()\n",
    "        \n",
    "    def create_children(self):\n",
    "      if self.plies >= 1:\n",
    "        for action in range(1,3):\n",
    "          next_state = self.state - action\n",
    "          child_node = Node(self.plies-1, -1*self.player_id, \n",
    "            next_state, \n",
    "            self.calc_utility(next_state, -1*self.player_id))\n",
    "            \n",
    "          self.children.append(child_node)\n",
    "    def calc_utility(self, next_state, player):\n",
    "      # if max leaves one he loses\n",
    "      if next_state == 1:\n",
    "        return -1\n",
    "      # if max leaves 0 he wins\n",
    "      if next_state == 0:\n",
    "        return 1\n",
    "      return 0\n",
    "      \n",
    "n = Node(plies=0,player_id=1,state=3, utility=0)"
   ]
  },
  {
   "cell_type": "code",
   "execution_count": null,
   "metadata": {
    "collapsed": true
   },
   "outputs": [],
   "source": [
    "class Node(object):\n",
    "    \n",
    "    def __init__(self, depth, id):\n",
    "        self.depth = depth\n",
    "        self.id = id\n",
    "        self.children = []\n",
    "        self.create_children()\n",
    "        \n",
    "    def create_children(self):\n",
    "        \n",
    "        if self.depth >= 1:\n",
    "            for id in range(1,3):\n",
    "                child_node = Node(self.depth-1, id)\n",
    "                self.children.append(child_node)\n",
    "\n",
    "n = Node(2,1)"
   ]
  },
  {
   "cell_type": "markdown",
   "metadata": {
    "collapsed": true
   },
   "source": [
    "## Minimax revised"
   ]
  },
  {
   "cell_type": "code",
   "execution_count": null,
   "metadata": {
    "collapsed": true
   },
   "outputs": [],
   "source": [
    "class Node(object):\n",
    "    \n",
    "    def __init__(self, plies, player, action, state, utility):\n",
    "      self.player_name = None\n",
    "      if player:\n",
    "        self.player_name = 'MAX'\n",
    "      else:\n",
    "        self.player_name = 'MIN'\n",
    "      self.plies = plies\n",
    "      self.player = player\n",
    "      self.action = action\n",
    "      self.state = state\n",
    "      self.utility = utility\n",
    "      self.children = []\n",
    "      self.create_children()\n",
    "        \n",
    "    def create_children(self):\n",
    "      if self.plies >= 1:\n",
    "        for action in range(1,3):\n",
    "          next_state = self.state - action\n",
    "          child_node = Node(\n",
    "              plies=self.plies-1, \n",
    "              player=(not self.player),\n",
    "              action=action,\n",
    "              state=next_state, \n",
    "              utility=self.calc_utility(next_state, (not self.player)))\n",
    "            \n",
    "          self.children.append(child_node)\n",
    "    def calc_utility(self, next_state, player):\n",
    "      # if max leaves one he loses\n",
    "      if not player:\n",
    "          if next_state == 1:\n",
    "              return -1\n",
    "          elif next_state == 0:\n",
    "              return 1\n",
    "      if player:\n",
    "          if next_state == 1:\n",
    "            return 1\n",
    "          elif next_state == 0:\n",
    "              return -1    \n",
    "      return 0\n",
    "      \n",
    "def minimax(node, plies, player):\n",
    "    if plies < 1:\n",
    "        if node.utility == 0:\n",
    "            return (0, node.action)\n",
    "        if player:\n",
    "            print(\"the min player\")\n",
    "            return (-1, node.action)\n",
    "        else:\n",
    "            print(\"the max player\")\n",
    "            return (+1, node.action)\n",
    "    elif player:\n",
    "        # max player\n",
    "        current_best = (-2,None)\n",
    "        for child in node.children:\n",
    "            \n",
    "            returned_best = minimax(child,plies-1, not player)\n",
    "            if returned_best[0] > current_best[0]:\n",
    "                current_best = returned_best\n",
    "        return current_best\n",
    "    else:\n",
    "        pass\n",
    "n = Node(plies=1,player=True, action=None, state=3, utility=0)\n",
    "best = minimax(n, plies=1, player=True)\n",
    "print(best)"
   ]
  }
 ],
 "metadata": {
  "kernelspec": {
   "display_name": "Python 3",
   "language": "python",
   "name": "python3"
  },
  "language_info": {
   "codemirror_mode": {
    "name": "ipython",
    "version": 3
   },
   "file_extension": ".py",
   "mimetype": "text/x-python",
   "name": "python",
   "nbconvert_exporter": "python",
   "pygments_lexer": "ipython3",
   "version": "3.4.0"
  }
 },
 "nbformat": 4,
 "nbformat_minor": 2
}
