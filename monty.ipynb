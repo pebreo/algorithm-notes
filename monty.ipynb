{
cells: [
{
cell_type: "code",
execution_count: 20,
metadata: {
collapsed: false
},
outputs: [
{
name: "stdout",
output_type: "stream",
text: [
"If you stay, then you're win ratio is 33.95%. That's 3395 wins and 6605 losses ",
"If you choose the other door, then you're win ratio is 67.06%. That's 6706 wins and 3294 losses "
]
}
],
source: [
"from random import choice ",
"possibilities = ['car','goat','goat'] ",
" ",
"def set_door1(): ",
" door1 = choice(possibilities) ",
" return door1 ",
" ",
"def set_door2and3(): ",
" door2 = choice(['car','goat']) ",
" if door2 == 'car': ",
" door3 = 'goat' ",
" else: ",
" door3 = 'car' ",
" return (door2,door3) ",
" ",
" ",
"def set_doors(): ",
" door1 = set_door1() ",
" if door1 == 'car': ",
" door2 = 'goat' ",
" door3 = 'goat' ",
" else: ",
" door2,door3 = set_door2and3() ",
" return (door1, door2, door3) ",
" ",
"def test1(): ",
" for i in range(10): ",
" print(set_doors()) ",
" ",
"def check_win_or_loss(selection): ",
" if selection == 'car': ",
" return 'win' ",
" else: ",
" return 'loss' ",
" ",
"def count_wins_and_losses(win_loss_record): ",
" win_count = 0 ",
" loss_count = 0 ",
" for record in win_loss_record: ",
" if record == 'win': ",
" win_count +=1 ",
" else: ",
" loss_count +=1 ",
" return (win_count,loss_count) ",
" ",
" ",
"def test_win_or_loss(): ",
" for i in range(10): ",
" door1,door2,door3 = set_doors() ",
" win_loss_record.append(check_win_or_loss(door1)) ",
" print(win_loss_record) ",
" print(count_wins_and_losses(win_loss_record)) ",
" ",
"#test_win_or_loss() ",
" ",
"def player_stay_strategy(num_plays): ",
" win_loss_record = [] ",
" for i in range(num_plays): ",
" door1,door2,door3 = set_doors() ",
" selection = door1 ",
" win_loss_record.append(check_win_or_loss(selection)) ",
" return win_loss_record ",
" ",
" ",
"def player_switch_strategy(num_plays): ",
" show_goat_door = None ",
" win_loss_record = [] ",
" for i in range(num_plays): ",
" door1, door2, door3 = set_doors() ",
" # house's decision ",
" # if door2 or door3 a car, then we tempt the player ",
" if (door2 == 'car') or (door3 == 'car'): ",
" if door3 == 'car': ",
" show_goat_door = door2 ",
" if door2 == 'car': ",
" show_goat_door = door3 ",
" ",
" # player decisions ",
" if show_goat_door == door2: ",
" selection = door3 ",
" elif show_goat_door == door3: ",
" selection = door2 ",
" else: ",
" selection = door1 ",
" win_loss_record.append(check_win_or_loss(selection)) ",
" return win_loss_record ",
" ",
"def calculate_stay_strategy(num_plays): ",
" win_loss_record = [] ",
" win_loss_record = player_stay_strategy(num_plays) ",
" return count_wins_and_losses(win_loss_record) ",
" ",
"def calculate_switch_strategy(num_plays): ",
" win_loss_record = [] ",
" win_loss_record = player_switch_strategy(num_plays) ",
" return count_wins_and_losses(win_loss_record) ",
" ",
"def main(): ",
" wins, losses = calculate_stay_strategy(10000) ",
" stay_win_ratio = (wins / (wins + losses)) * 100 ",
" print("If you stay, then you're win ratio is {0:.2f}%. That's {1} wins and {2} losses" ",
" .format(stay_win_ratio,wins,losses)) ",
" ",
" wins2, losses2 = calculate_switch_strategy(10000) ",
" switch_win_ratio = (wins2 / (wins2+ losses2)) * 100 ",
" print("If you choose the other door, then you're win ratio is {0:.2f}%. That's {1} wins and {2} losses" ",
" .format(switch_win_ratio,wins2,losses2)) ",
" ",
" ",
"main()"
]
}
],
metadata: {
kernelspec: {
display_name: "Python 3",
language: "python",
name: "python3"
},
language_info: {
codemirror_mode: {
name: "ipython",
version: 3
},
file_extension: ".py",
mimetype: "text/x-python",
name: "python",
nbconvert_exporter: "python",
pygments_lexer: "ipython3",
version: "3.4.0"
}
},
nbformat: 4,
nbformat_minor: 0
}
cells[0].execution_count+-View sourceoptions

-
1
// 20170411081451
2
// https://raw.githubusercontent.com/pebreo/montyhallsimulation/master/montyhall.ipynb
3
​
4
{
5
  "cells": [
6
    {
7
      "cell_type": "code",
8
      "execution_count": 20,
9
      "metadata": {
10
        "collapsed": false
11
      },
12
      "outputs": [
13
        {
14
          "name": "stdout",
15
          "output_type": "stream",
16
          "text": [
17
            "If you stay, then you're win ratio is 33.95%. That's 3395 wins and 6605 losses\n",
18
            "If you choose the other door, then you're win ratio is 67.06%. That's 6706 wins and 3294 losses\n"
19
          ]
20
        }
21
      ],
22
      "source": [
23
        "from random import choice\n",
24
        "possibilities = ['car','goat','goat']\n",
25
        "\n",
26
        "def set_door1():\n",
27
        "    door1 = choice(possibilities)\n",
28
        "    return door1\n",
29
        "\n",
30
        "def set_door2and3():\n",
31
        "    door2 = choice(['car','goat'])\n",
32
        "    if door2 == 'car':\n",
33
        "        door3 = 'goat'\n",
34
        "    else:\n",
35
        "        door3 = 'car'\n",
36
        "    return (door2,door3)\n",
37
        "\n",
38
        "\n",
39
        "def set_doors():\n",
40
        "    door1 = set_door1()\n",
41
        "    if door1 == 'car':\n",
