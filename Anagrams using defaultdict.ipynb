{
 "cells": [
  {
   "cell_type": "markdown",
   "metadata": {},
   "source": [
    "## Anagrams\n",
    "\n",
    "Rosetta code task\n",
    "\n",
    "Using the word list at   http://www.puzzlers.org/pub/wordlists/unixdict.txt, \n",
    "find the sets of words that share the same characters that contain the most words in them."
   ]
  },
  {
   "cell_type": "markdown",
   "metadata": {},
   "source": [
    "A word about `defaultdict` in Python\n",
    "\n",
    "Normally, you have to have an existed key to create a dictionary\n",
    "but defaultdict allows you to dynamically create dictionaries of different types.\n",
    "For example:\n",
    "\n",
    "```\n",
    "word_count = defaultdict(int)\n",
    "word_count['foo'] += 1\n",
    "word_count['foo'] += 1\n",
    "word_count['bar'] += 1\n",
    "```\n",
    "would result in something like\n",
    "```\n",
    "{'foo':2}, {'bar': 1}\n",
    "```\n",
    "\n",
    "Another example using `defaultdict(list)`\n",
    "\n",
    "```\n",
    "word_count = defaultdict(int)\n",
    "word_count['fruit'].append('banana')\n",
    "word_count['fruit'].append('apple')\n",
    "word_count['animal'].append('monkey')\n",
    "```\n",
    "would result in:\n",
    "```\n",
    "{ 'fruit': ['banana','apple'] },\n",
    "{ 'animal':['monkey'] }\n",
    "```"
   ]
  },
  {
   "cell_type": "markdown",
   "metadata": {},
   "source": [
    "## Solution"
   ]
  },
  {
   "cell_type": "code",
   "execution_count": 7,
   "metadata": {
    "collapsed": false
   },
   "outputs": [
    {
     "name": "stdout",
     "output_type": "stream",
     "text": [
      "[b'abel', b'able', b'bale', b'bela', b'elba']\n",
      "[b'caret', b'carte', b'cater', b'crate', b'trace']\n",
      "[b'evil', b'levi', b'live', b'veil', b'vile']\n",
      "[b'alger', b'glare', b'lager', b'large', b'regal']\n",
      "[b'elan', b'lane', b'lean', b'lena', b'neal']\n",
      "[b'angel', b'angle', b'galen', b'glean', b'lange']\n"
     ]
    }
   ],
   "source": [
    "import urllib.request\n",
    "from collections import defaultdict\n",
    "words = urllib.request.urlopen('http://www.puzzlers.org/pub/wordlists/unixdict.txt').read().split()\n",
    "anagram = defaultdict(list) # map sorted chars to anagrams\n",
    "\n",
    "for word in words:\n",
    "    # We create a unique key from the sorted letters then add the words to that \"bucket\" \n",
    "    anagram[tuple(sorted(list(word)))].append(word)\n",
    "\n",
    "# Get the highest count for all the lists of words in an anagram\n",
    "max_count = max(len(ana) for ana in anagram.values())\n",
    "\n",
    "# Print the lists with the highest lengths\n",
    "for ana in anagram.values():\n",
    "    if len(ana) >= max_count:\n",
    "        print(ana)\n",
    "    "
   ]
  },
  {
   "cell_type": "code",
   "execution_count": null,
   "metadata": {
    "collapsed": true
   },
   "outputs": [],
   "source": [
    "Discussion: the above list of words have the most anagrams."
   ]
  }
 ],
 "metadata": {
  "kernelspec": {
   "display_name": "Python 3",
   "language": "python",
   "name": "python3"
  },
  "language_info": {
   "codemirror_mode": {
    "name": "ipython",
    "version": 3
   },
   "file_extension": ".py",
   "mimetype": "text/x-python",
   "name": "python",
   "nbconvert_exporter": "python",
   "pygments_lexer": "ipython3",
   "version": "3.4.0"
  }
 },
 "nbformat": 4,
 "nbformat_minor": 2
}
