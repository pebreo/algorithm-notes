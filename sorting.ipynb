{
 "cells": [
  {
   "cell_type": "markdown",
   "metadata": {
    "collapsed": true
   },
   "source": [
    "## Insertion sort"
   ]
  },
  {
   "cell_type": "code",
   "execution_count": 2,
   "metadata": {
    "collapsed": false
   },
   "outputs": [
    {
     "name": "stdout",
     "output_type": "stream",
     "text": [
      "[1, 2, 3, 4, 7]\n"
     ]
    }
   ],
   "source": [
    "def insertion_sort(L):\n",
    "  # we start at the last element\n",
    "  start = len(L)-1\n",
    "  end = 0\n",
    "  key = L[start]\n",
    "\n",
    "  while start >= end:\n",
    "    if start == end:\n",
    "      return L\n",
    "    key = L[start]\n",
    "    left_idx = start-1\n",
    "    left_element = L[left_idx]\n",
    "    if key < left_element:\n",
    "      # swap\n",
    "      L[start], L[left_idx] = L[left_idx], L[start]    \n",
    "    start = start - 1\n",
    "  return L\n",
    "\n",
    "print(insertion_sort([2,1,3,7,4]))"
   ]
  },
  {
   "cell_type": "markdown",
   "metadata": {},
   "source": [
    "## Insertion sort - cleaner while condition"
   ]
  },
  {
   "cell_type": "code",
   "execution_count": 1,
   "metadata": {
    "collapsed": false
   },
   "outputs": [
    {
     "name": "stdout",
     "output_type": "stream",
     "text": [
      "[1, 2, 3, 4, 7]\n"
     ]
    }
   ],
   "source": [
    "def insertion_sort(L):\n",
    "  # we start at the last element\n",
    "  start = len(L)-1\n",
    "  end = 0\n",
    "  key = L[start]\n",
    "  while (start >= end) and not (start == end):\n",
    "\n",
    "    key = L[start]\n",
    "    left_idx = start-1\n",
    "    left_element = L[left_idx]\n",
    "    if key < left_element:\n",
    "      # swap\n",
    "      L[start], L[left_idx] = L[left_idx], L[start]    \n",
    "    start = start - 1\n",
    "  return L\n",
    "\n",
    "print(insertion_sort([2,1,3,7,4]))"
   ]
  },
  {
   "cell_type": "code",
   "execution_count": null,
   "metadata": {
    "collapsed": true
   },
   "outputs": [],
   "source": [
    "## Bubble sort"
   ]
  },
  {
   "cell_type": "code",
   "execution_count": null,
   "metadata": {
    "collapsed": true
   },
   "outputs": [],
   "source": []
  },
  {
   "cell_type": "code",
   "execution_count": null,
   "metadata": {
    "collapsed": true
   },
   "outputs": [],
   "source": [
    "## Quicksort"
   ]
  }
 ],
 "metadata": {
  "kernelspec": {
   "display_name": "Python 3",
   "language": "python",
   "name": "python3"
  },
  "language_info": {
   "codemirror_mode": {
    "name": "ipython",
    "version": 3
   },
   "file_extension": ".py",
   "mimetype": "text/x-python",
   "name": "python",
   "nbconvert_exporter": "python",
   "pygments_lexer": "ipython3",
   "version": "3.4.0"
  }
 },
 "nbformat": 4,
 "nbformat_minor": 2
}
