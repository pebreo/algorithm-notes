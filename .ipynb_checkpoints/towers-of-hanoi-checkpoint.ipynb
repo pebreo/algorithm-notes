{
 "cells": [
  {
   "cell_type": "code",
   "execution_count": null,
   "metadata": {
    "collapsed": true
   },
   "outputs": [],
   "source": [
    "\"\"\"\n",
    "Move 2 (n-1) discs from A to B using C\n",
    "Move 1 disc from A to C\n",
    "Move 2 (n-1) discs from B to A using A\n",
    "\n",
    "\"\"\"\n",
    "# a-source, b-temp, c-destination\n",
    "def toh(n, a, b, c):\n",
    "  if(n > 0):\n",
    "    toh(n-1, a, c, b)\n",
    "    print(\"Move a disc from  %s to %s \" %(a, c))\n",
    "    toh(n-1, b, a, c)\n",
    "    \n",
    "toh(3, 1,2,3)"
   ]
  },
  {
   "cell_type": "code",
   "execution_count": null,
   "metadata": {
    "collapsed": true
   },
   "outputs": [],
   "source": [
    "## Version with lists as towers"
   ]
  },
  {
   "cell_type": "code",
   "execution_count": null,
   "metadata": {
    "collapsed": true
   },
   "outputs": [],
   "source": [
    "# source, temp, destination\n",
    "A = [1,2,3]\n",
    "B = []\n",
    "C = []\n",
    "towers = [A,B,C]\n",
    "def toh(n, a, b, c):\n",
    "  if(n > 0):\n",
    "    toh(n-1, a, c, b)\n",
    "    print(\"Move a disc from  %s to %s \" %(a, c))\n",
    "    piece = towers[a-1].pop()\n",
    "    towers[c-1].append(piece)\n",
    "    toh(n-1, b, a, c)\n",
    "    \n",
    "toh(3, 1,2,3)\n",
    "print(A)\n",
    "print(C)"
   ]
  }
 ],
 "metadata": {
  "kernelspec": {
   "display_name": "Python 3",
   "language": "python",
   "name": "python3"
  },
  "language_info": {
   "codemirror_mode": {
    "name": "ipython",
    "version": 3
   },
   "file_extension": ".py",
   "mimetype": "text/x-python",
   "name": "python",
   "nbconvert_exporter": "python",
   "pygments_lexer": "ipython3",
   "version": "3.4.0"
  }
 },
 "nbformat": 4,
 "nbformat_minor": 2
}
