{
 "cells": [
  {
   "cell_type": "code",
   "execution_count": null,
   "metadata": {
    "collapsed": true
   },
   "outputs": [],
   "source": [
    "\"\"\"\n",
    "Move 2 (n-1) discs from A to B using C\n",
    "Move 1 disc from A to C\n",
    "Move 2 (n-1) discs from B to A using A\n",
    "\n",
    "\"\"\"\n",
    "# a-source, b-temp, c-destination\n",
    "def toh(n, a, b, c):\n",
    "  if(n > 0):\n",
    "    toh(n-1, a, c, b)\n",
    "    print(\"Move a disc from  %s to %s \" %(a, c))\n",
    "    toh(n-1, b, a, c)\n",
    "    \n",
    "toh(3, 1,2,3)"
   ]
  }
 ],
 "metadata": {
  "kernelspec": {
   "display_name": "Python 3",
   "language": "python",
   "name": "python3"
  },
  "language_info": {
   "codemirror_mode": {
    "name": "ipython",
    "version": 3
   },
   "file_extension": ".py",
   "mimetype": "text/x-python",
   "name": "python",
   "nbconvert_exporter": "python",
   "pygments_lexer": "ipython3",
   "version": "3.4.0"
  }
 },
 "nbformat": 4,
 "nbformat_minor": 2
}
