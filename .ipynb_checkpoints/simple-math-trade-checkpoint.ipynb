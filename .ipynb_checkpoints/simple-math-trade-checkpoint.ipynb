{
 "cells": [
  {
   "cell_type": "code",
   "execution_count": 1,
   "metadata": {
    "collapsed": false
   },
   "outputs": [
    {
     "name": "stdout",
     "output_type": "stream",
     "text": [
      "3\n",
      "b\n",
      "['a', 'b', 'c']\n"
     ]
    }
   ],
   "source": [
    "\"\"\"\n",
    "Purpose:\n",
    "I wanted to do a simple simulation of a No-Risk Mathematical Trade List inspired\n",
    "from Boardgamegeek website.\n",
    "\n",
    "note: our accumalor is a list of people that want something from the n-1 person\n",
    "from them. so b wants something from a and c wants something from binfile\n",
    "\n",
    "what happens if nobody wants what you dont want?\n",
    "  * we return a false and we stop calling helper_find_path()\n",
    "\n",
    "\n",
    "what happens if you have a want1 and want2?\n",
    "we could loop through want1 and want2 and record \n",
    "\n",
    "\n",
    "\n",
    "discusiosn \n",
    "\n",
    "if you have a list of wants you can tried to find one that has a solution\n",
    "otherwise \n",
    "\n",
    "\n",
    "\"\"\"\n",
    "from collections import namedtuple\n",
    "\n",
    "Wish = namedtuple('Wish','dw w') # dw - dont want ; w - want\n",
    "\n",
    "users = {'a':Wish(3,1), 'b':Wish(2,3),'c':Wish(1,2)}\n",
    "\n",
    "print(users['a'].dw)\n",
    "\n",
    "def find_dw_to_w(dw):\n",
    "  \"\"\" Return user name of the person that wants what you dont want\"\"\"\n",
    "  for k,wish in users.items():\n",
    "    if dw == wish.w:\n",
    "      return k\n",
    "  return False # nobody wants what you dont want\n",
    "    \n",
    "print(find_dw_to_w(3))\n",
    "\n",
    "def find_path(person):\n",
    "  \"\"\" find the path of user trades so that person gets what they want\"\"\"\n",
    "  return _find_path(person, [person])\n",
    "\n",
    "def _find_path(person, acc):\n",
    "  \"\"\" the helper program \"\"\"\n",
    "  \n",
    "  \"\"\" base condition: is when the last person on acc has what the first person wants\"\"\"\n",
    "  if users[acc[0]].w == users[acc[-1]].dw:\n",
    "      return acc\n",
    "  else:\n",
    "    person = find_dw_to_w(users[person].dw)\n",
    "    # if you cant find anyone that wants what you don't want\n",
    "    if person == False:\n",
    "      return False \n",
    "    # acc = acc + [person]\n",
    "    return _find_path(person, acc + [person])\n",
    "\n",
    "# interpretation:\n",
    "# a gives to b ; b gives to c; and c gives to a\n",
    "print(find_path('a'))\n"
   ]
  },
  {
   "cell_type": "code",
   "execution_count": null,
   "metadata": {
    "collapsed": true
   },
   "outputs": [],
   "source": []
  }
 ],
 "metadata": {
  "kernelspec": {
   "display_name": "Python 3",
   "language": "python",
   "name": "python3"
  },
  "language_info": {
   "codemirror_mode": {
    "name": "ipython",
    "version": 3
   },
   "file_extension": ".py",
   "mimetype": "text/x-python",
   "name": "python",
   "nbconvert_exporter": "python",
   "pygments_lexer": "ipython3",
   "version": "3.4.0"
  }
 },
 "nbformat": 4,
 "nbformat_minor": 2
}
