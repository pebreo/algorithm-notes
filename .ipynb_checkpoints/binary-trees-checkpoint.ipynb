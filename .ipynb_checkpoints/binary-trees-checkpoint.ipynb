{
 "cells": [
  {
   "cell_type": "markdown",
   "metadata": {},
   "source": [
    "## Basic node creation"
   ]
  },
  {
   "cell_type": "code",
   "execution_count": null,
   "metadata": {
    "collapsed": true
   },
   "outputs": [],
   "source": [
    "class Node(object):\n",
    "    \n",
    "    def __init__(self, depth, id):\n",
    "        self.depth = depth\n",
    "        self.id = id\n",
    "        self.children = []\n",
    "        self.create_children()\n",
    "        \n",
    "    def create_children(self):\n",
    "        \n",
    "        if self.depth >= 1:\n",
    "            for id in range(1,3):\n",
    "                child_node = Node(self.depth-1, id)\n",
    "                self.children.append(child_node)\n",
    "\n",
    "n = Node(2,1)"
   ]
  },
  {
   "cell_type": "markdown",
   "metadata": {},
   "source": [
    "## Classic binary tree"
   ]
  },
  {
   "cell_type": "code",
   "execution_count": null,
   "metadata": {
    "collapsed": true
   },
   "outputs": [],
   "source": [
    "\n",
    "class Node(object):\n",
    "  def __init__(self, value):\n",
    "    self.value = value\n",
    "    self.rc = None\n",
    "    self.lc = None\n",
    "  \n",
    "  def has_right(self):\n",
    "    return self.rc != None\n",
    "  \n",
    "  def has_left(self):\n",
    "    return self.lc != None\n",
    "    \n",
    "  def insert_lc(self, value):\n",
    "    self.lc = value\n",
    "    \n",
    "  def insert_rc(self, value):\n",
    "    self.rc = value\n",
    "  \n",
    "  def insert(self, node, new_value):\n",
    "    curr_value = node.value\n",
    "    if new_value < curr_value:\n",
    "      if node.has_left():\n",
    "        new_node = Node(new_value)\n",
    "        self.insert(node.lc, new_value)\n",
    "      else:\n",
    "          node.lc = Node(new_value)\n",
    "    if new_value > curr_value:\n",
    "      if node.has_right():\n",
    "        new_node = Node(new_value)\n",
    "        node.insert(node.rc, new_value)\n",
    "      else:\n",
    "        node.rc = Node(new_value)\n",
    "\n",
    "n = Node(3)\n",
    "x = [5,1,6,2]\n",
    "for item in x:\n",
    "    n.insert(n, item)\n"
   ]
  },
  {
   "cell_type": "code",
   "execution_count": null,
   "metadata": {
    "collapsed": true
   },
   "outputs": [],
   "source": [
    "## Expression tree using stacks and traversal\n",
    "In the example below, we create an expression tree of a postfix arithmetic notation.\n",
    "in the `create_etree()` function we use stacks to keep track of what elements should\n",
    "be appended to be children.\n",
    "\n",
    "infix - a+b\n",
    "postfix - ab+"
   ]
  },
  {
   "cell_type": "code",
   "execution_count": 2,
   "metadata": {
    "collapsed": false
   },
   "outputs": [
    {
     "name": "stdout",
     "output_type": "stream",
     "text": [
      "a\n",
      "+\n",
      "b\n"
     ]
    }
   ],
   "source": [
    "\n",
    "\"\"\"\n",
    "source: http://www.geeksforgeeks.org/expression-tree/\n",
    "\n",
    "Pre-order (top-down) traversal, postfix, stacks\n",
    "\n",
    "Difference between infix and postfix arithmetic notation:\n",
    "infix arithmetic notation a + b\n",
    "\n",
    "postfix arithmetic notation ab+\n",
    "\"\"\"\n",
    "\n",
    "class Etree(object):\n",
    "  def __init__(self, value):\n",
    "    self.value = value\n",
    "    self.left = None\n",
    "    self.right = None\n",
    "\n",
    "def isOperator(c):\n",
    "  if (c == '+' or c == '-' or c == '*'\n",
    "    or c == '/' or c == '^'):\n",
    "      return True\n",
    "  return False\n",
    "  \n",
    "def inorder(t):\n",
    "  if t is not None:\n",
    "    inorder(t.left)\n",
    "    print(t.value)\n",
    "    inorder(t.right)\n",
    "\n",
    "def create_etree(postfix_str):\n",
    "  stack = []\n",
    "  for char in postfix_str:\n",
    "    # operand\n",
    "    if not isOperator(char):\n",
    "      node = Etree(char)\n",
    "      stack.append(node)\n",
    "    # operator\n",
    "    else:\n",
    "      node = Etree(char)\n",
    "      node1 = stack.pop()\n",
    "      node2 = stack.pop()\n",
    "      \n",
    "      # make them children\n",
    "      node.right = node1\n",
    "      node.left = node2\n",
    "        \n",
    "      # add subexpression to stack\n",
    "      stack.append(node)\n",
    "  # the tree in the top of the top node\n",
    "  t = stack.pop()\n",
    "  return t\n",
    "  \n",
    "t = create_etree(\"ab+\")\n",
    "inorder(t)"
   ]
  },
  {
   "cell_type": "markdown",
   "metadata": {
    "collapsed": true
   },
   "source": [
    "## Expression tree of a postfix arithmetic expression using inorder traversal"
   ]
  },
  {
   "cell_type": "code",
   "execution_count": null,
   "metadata": {
    "collapsed": true
   },
   "outputs": [],
   "source": [
    "\n",
    "\"\"\"\n",
    "Pre-order (top-down) traversal, postfix, stacks\n",
    "\n",
    "infix arithmetic notation a + b\n",
    "\n",
    "postfix arithmetic notation ab+\n",
    "\"\"\"\n",
    "\n",
    "class Etree(object):\n",
    "  def __init__(self, value):\n",
    "    self.value = value\n",
    "    self.left = None\n",
    "    self.right = None\n",
    "\n",
    "def isOperator(c):\n",
    "  if (c == '+' or c == '-' or c == '*'\n",
    "    or c == '/' or c == '^'):\n",
    "      return True\n",
    "  return False\n",
    "  \n",
    "def inorder(t):\n",
    "  if t is not None:\n",
    "    inorder(t.left)\n",
    "    print(t.value)\n",
    "    inorder(t.right)\n",
    "\n",
    "def create_etree(postfix_str):\n",
    "  stack = []\n",
    "  for char in postfix_str:\n",
    "    # operand\n",
    "    if not isOperator(char):\n",
    "      node = Etree(char)\n",
    "      stack.append(node)\n",
    "    # operator\n",
    "    else:\n",
    "      node = Etree(char)\n",
    "      node1 = stack.pop()\n",
    "      node2 = stack.pop()\n",
    "      # make them children\n",
    "      node.right = node1\n",
    "      node.left = node2\n",
    "      # add subexpression to stack\n",
    "      stack.append(node)\n",
    "  t = stack.pop()\n",
    "  return t\n",
    "  \n",
    "t = create_etree(\"ab+\")\n",
    "inorder(t)"
   ]
  }
 ],
 "metadata": {
  "kernelspec": {
   "display_name": "Python 3",
   "language": "python",
   "name": "python3"
  },
  "language_info": {
   "codemirror_mode": {
    "name": "ipython",
    "version": 3
   },
   "file_extension": ".py",
   "mimetype": "text/x-python",
   "name": "python",
   "nbconvert_exporter": "python",
   "pygments_lexer": "ipython3",
   "version": "3.4.0"
  }
 },
 "nbformat": 4,
 "nbformat_minor": 2
}
