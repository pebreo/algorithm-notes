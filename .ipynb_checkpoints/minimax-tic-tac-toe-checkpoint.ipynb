{
 "cells": [
  {
   "cell_type": "code",
   "execution_count": null,
   "metadata": {
    "collapsed": true
   },
   "outputs": [],
   "source": [
    "# minimax resource : http://neverstopbuilding.com/minimax\n",
    "https://www.leaseweb.com/labs/2013/12/python-tictactoe-tk-minimax-ai/"
   ]
  },
  {
   "cell_type": "code",
   "execution_count": 3,
   "metadata": {
    "collapsed": false
   },
   "outputs": [
    {
     "name": "stdout",
     "output_type": "stream",
     "text": [
      "{(1, 2): 'X', (3, 2): '.', (1, 3): '.', (2, 3): '.', (3, 3): '.', (2, 2): '.', (3, 1): '.', (1, 1): '.', (2, 1): '.'}\n"
     ]
    }
   ],
   "source": [
    "class Board(object):\n",
    "  def __init__(self, other=None):\n",
    "    self.foo = 3\n",
    "    self.fields = {}\n",
    "    for y in range(1,4):\n",
    "        for x in range(1,4):\n",
    "            self.fields[x,y] = '.'\n",
    "  \n",
    "  def move(self, x,y):\n",
    "    board = Board(self)\n",
    "    board.fields[x,y] = 'X'\n",
    "    return board\n",
    "    \n",
    "b = Board()\n",
    "newboard = b.move(1,2)\n",
    "print(newboard.fields)"
   ]
  },
  {
   "cell_type": "code",
   "execution_count": null,
   "metadata": {
    "collapsed": true
   },
   "outputs": [],
   "source": []
  }
 ],
 "metadata": {
  "kernelspec": {
   "display_name": "Python 3",
   "language": "python",
   "name": "python3"
  },
  "language_info": {
   "codemirror_mode": {
    "name": "ipython",
    "version": 3
   },
   "file_extension": ".py",
   "mimetype": "text/x-python",
   "name": "python",
   "nbconvert_exporter": "python",
   "pygments_lexer": "ipython3",
   "version": "3.4.0"
  }
 },
 "nbformat": 4,
 "nbformat_minor": 2
}
