{
 "cells": [
  {
   "cell_type": "markdown",
   "metadata": {
    "collapsed": true
   },
   "source": [
    "## Insertion sort"
   ]
  },
  {
   "cell_type": "code",
   "execution_count": 2,
   "metadata": {
    "collapsed": false
   },
   "outputs": [
    {
     "name": "stdout",
     "output_type": "stream",
     "text": [
      "[1, 2, 3, 4, 7]\n"
     ]
    }
   ],
   "source": [
    "def insertion_sort(L):\n",
    "  # we start at the last element\n",
    "  start = len(L)-1\n",
    "  end = 0\n",
    "  key = L[start]\n",
    "\n",
    "  while start >= end:\n",
    "    if start == end:\n",
    "      return L\n",
    "    key = L[start]\n",
    "    left_idx = start-1\n",
    "    left_element = L[left_idx]\n",
    "    if key < left_element:\n",
    "      # swap\n",
    "      L[start], L[left_idx] = L[left_idx], L[start]    \n",
    "    start = start - 1\n",
    "  return L\n",
    "\n",
    "print(insertion_sort([2,1,3,7,4]))"
   ]
  },
  {
   "cell_type": "markdown",
   "metadata": {},
   "source": [
    "## Insertion sort - cleaner while condition"
   ]
  },
  {
   "cell_type": "code",
   "execution_count": 1,
   "metadata": {
    "collapsed": false
   },
   "outputs": [
    {
     "name": "stdout",
     "output_type": "stream",
     "text": [
      "[1, 2, 3, 4, 7]\n"
     ]
    }
   ],
   "source": [
    "def insertion_sort(L):\n",
    "  # we start at the last element\n",
    "  start = len(L)-1\n",
    "  end = 0\n",
    "  key = L[start]\n",
    "  while (start >= end) and not (start == end):\n",
    "\n",
    "    key = L[start]\n",
    "    left_idx = start-1\n",
    "    left_element = L[left_idx]\n",
    "    if key < left_element:\n",
    "      # swap\n",
    "      L[start], L[left_idx] = L[left_idx], L[start]    \n",
    "    start = start - 1\n",
    "  return L\n",
    "\n",
    "print(insertion_sort([2,1,3,7,4]))"
   ]
  },
  {
   "cell_type": "markdown",
   "metadata": {
    "collapsed": true
   },
   "source": [
    "## Bubble sort"
   ]
  },
  {
   "cell_type": "code",
   "execution_count": null,
   "metadata": {
    "collapsed": true
   },
   "outputs": [],
   "source": [
    "\n",
    "L = [5,3,5,4,1,2]\n",
    "\n",
    "def bubble_sort(L):\n",
    "  key = 0\n",
    "  size = len(L)\n",
    "  end = size-1\n",
    "  finished = False\n",
    "  while not finished:\n",
    "    if key+1 == end: finished = True\n",
    "    while key < end:\n",
    "      # if key element is greater than the adjacent element, we swap\n",
    "      if L[key] > L[key+1]:\n",
    "        L[key+1], L[key] = L[key], L[key+1]\n",
    "      key += 1\n",
    "    key = 0\n",
    "    end = end-1\n",
    "    print(L)\n",
    "bubble_sort(L)"
   ]
  },
  {
   "cell_type": "markdown",
   "metadata": {
    "collapsed": true
   },
   "source": [
    "## Merge sort"
   ]
  },
  {
   "cell_type": "code",
   "execution_count": null,
   "metadata": {
    "collapsed": true
   },
   "outputs": [],
   "source": [
    "\n",
    "# complete\n",
    "# inspiration: http://stackoverflow.com/questions/18761766/mergesort-python\n",
    "def msort(L):\n",
    "    result = []\n",
    "    if len(L) < 2:\n",
    "        return L\n",
    "    mid = len(L) // 2\n",
    " \n",
    "    left = msort(L[:mid])\n",
    "    right = msort(L[mid:])\n",
    "    left_key = 0\n",
    "    right_key = 0\n",
    "    while left_key < len(left) and right_key < len(right):\n",
    "        if left[left_key] > right[right_key]:\n",
    "            result.append(right[right_key])\n",
    "            right_key += 1\n",
    "        else:\n",
    "            result.append(left[left_key])\n",
    "            left_key += 1 \n",
    "    result += left[left_key:] # anything past this index including itself\n",
    "    result += right[right_key:] # anything past this index including itself\n",
    "    return result\n",
    "\n",
    "sortedL = msort([3,1,2,7,5,9])\n",
    "print(sortedL)\n",
    "\"\"\"\n",
    "# simple\n",
    "# stack overflow\n",
    "# http://stackoverflow.com/questions/18761766/mergesort-python\n",
    "def msort(L):\n",
    "    if len(L) < 2:\n",
    "        return L\n",
    "    mid = len(L) // 2\n",
    " \n",
    "    left = msort(L[:mid])\n",
    "    right = msort(L[mid:])\n",
    "\n",
    "msort([1,2,3])\n",
    "\n",
    "\"\"\"\n",
    "\n",
    "\n",
    "\"\"\"\n",
    "# wikipedia algorith\n",
    "from copy import deepcopy\n",
    "\n",
    "def sort(A, T):\n",
    "  T = deepcopy(A)\n",
    "  split(T, 0, len(A), A)\n",
    "\n",
    "def split(T, start, end, A):\n",
    "  #print(T[start:end])\n",
    "  #if end - start < 2:\n",
    "  #  return\n",
    "  if len(T) < 2:\n",
    "      return\n",
    "  middle = (start + end) // 2\n",
    "  split(A[start:middle], start,middle, T)\n",
    "  split(A[middle:end], middle, end, T)\n",
    "  #merge(T, start, middle, end, A)\n",
    "\n",
    "#def start\n",
    "\n",
    "A = [3,1,4]\n",
    "T = []\n",
    "sort(A,T)\n",
    "\"\"\"\n",
    "\n",
    "\n",
    "\"\"\"\n",
    "from copy import deepcopy\n",
    "\n",
    "def sort(A, T):\n",
    "  T = deepcopy(A)\n",
    "  split(T, 0, len(A), A)\n",
    "\n",
    "def split(T, start, end, A):\n",
    "  #print(T[start:end])\n",
    "  if end - start < 2:\n",
    "    return\n",
    "  middle = (start + end) // 2\n",
    "  split(A, start, middle, T)\n",
    "  split(A, middle, end, T)\n",
    "  #merge(T, start, middle, end, A)\n",
    "\n",
    "#def start\n",
    "\n",
    "A = [3,1,4]\n",
    "T = []\n",
    "sort(A,T)\n",
    "\"\"\""
   ]
  },
  {
   "cell_type": "code",
   "execution_count": null,
   "metadata": {
    "collapsed": true
   },
   "outputs": [],
   "source": [
    "## Quicksort"
   ]
  }
 ],
 "metadata": {
  "kernelspec": {
   "display_name": "Python 3",
   "language": "python",
   "name": "python3"
  },
  "language_info": {
   "codemirror_mode": {
    "name": "ipython",
    "version": 3
   },
   "file_extension": ".py",
   "mimetype": "text/x-python",
   "name": "python",
   "nbconvert_exporter": "python",
   "pygments_lexer": "ipython3",
   "version": "3.4.0"
  }
 },
 "nbformat": 4,
 "nbformat_minor": 2
}
