{
 "cells": [
  {
   "cell_type": "markdown",
   "metadata": {
    "collapsed": true
   },
   "source": [
    "## Factorial - vanilla recursion"
   ]
  },
  {
   "cell_type": "code",
   "execution_count": null,
   "metadata": {
    "collapsed": true
   },
   "outputs": [],
   "source": [
    "def fact(n):\n",
    "    if n <= 1:\n",
    "        return 1\n",
    "    return n*fact(n-1)\n",
    "\n",
    "print(fact(3))\n"
   ]
  },
  {
   "cell_type": "markdown",
   "metadata": {
    "collapsed": true
   },
   "source": [
    "## Factorial - tail recursion (accumulative recursion)"
   ]
  },
  {
   "cell_type": "code",
   "execution_count": 1,
   "metadata": {
    "collapsed": false
   },
   "outputs": [
    {
     "name": "stdout",
     "output_type": "stream",
     "text": [
      "6\n"
     ]
    }
   ],
   "source": [
    "def fact(n):\n",
    "    return helper_fact(n,1)\n",
    "\n",
    "def helper_fact(n, prod):\n",
    "    if n <= 1:\n",
    "        return prod\n",
    "    else:\n",
    "        return helper_fact(n-1, n*prod)\n",
    "print(fact(3))"
   ]
  },
  {
   "cell_type": "markdown",
   "metadata": {
    "collapsed": true
   },
   "source": [
    "## Fibonacci sequence generator - linear"
   ]
  },
  {
   "cell_type": "code",
   "execution_count": 16,
   "metadata": {
    "collapsed": false
   },
   "outputs": [
    {
     "name": "stdout",
     "output_type": "stream",
     "text": [
      "1\n",
      "1\n",
      "2\n",
      "3\n",
      "5\n"
     ]
    }
   ],
   "source": [
    "# where n is the number of digits\n",
    "def display_fib_sequence(n):\n",
    "    count = 0\n",
    "    a, b = 0,1\n",
    "    while count < n:\n",
    "        print(b)\n",
    "        a, b = b, a+b\n",
    "        count += 1\n",
    "\n",
    "display_fib_sequence(5)"
   ]
  },
  {
   "cell_type": "markdown",
   "metadata": {},
   "source": [
    "## Finding nth Fibonacci number - vanilla recursion"
   ]
  },
  {
   "cell_type": "code",
   "execution_count": 11,
   "metadata": {
    "collapsed": false
   },
   "outputs": [
    {
     "data": {
      "text/plain": [
       "8"
      ]
     },
     "execution_count": 11,
     "metadata": {},
     "output_type": "execute_result"
    }
   ],
   "source": [
    "# calculate the nth fibonacci number\n",
    "def F(n):\n",
    "    if n == 0: \n",
    "        return 0\n",
    "    elif n == 1: \n",
    "        return 1\n",
    "    else: \n",
    "        return F(n-1)+F(n-2)\n",
    "\n",
    "F(6)"
   ]
  },
  {
   "cell_type": "code",
   "execution_count": null,
   "metadata": {
    "collapsed": true
   },
   "outputs": [],
   "source": [
    "## Fibonacci - tail recursion (accumulative recursion)"
   ]
  },
  {
   "cell_type": "code",
   "execution_count": null,
   "metadata": {
    "collapsed": true
   },
   "outputs": [],
   "source": []
  },
  {
   "cell_type": "markdown",
   "metadata": {},
   "source": [
    "## Combinations "
   ]
  },
  {
   "cell_type": "code",
   "execution_count": null,
   "metadata": {
    "collapsed": true
   },
   "outputs": [],
   "source": [
    "def nCk(n, k):\n",
    "  if(k == 0 or n == k):\n",
    "    return 1\n",
    "  else:\n",
    "    return nCk(n-1,k-1) + nCk(n-1,k)\n",
    "\n",
    "print(nCk(5,2))"
   ]
  },
  {
   "cell_type": "markdown",
   "metadata": {},
   "source": [
    "## Mergesort"
   ]
  },
  {
   "cell_type": "code",
   "execution_count": null,
   "metadata": {
    "collapsed": true
   },
   "outputs": [],
   "source": [
    "\n",
    "# complete\n",
    "# inspiration: http://stackoverflow.com/questions/18761766/mergesort-python\n",
    "def msort(L):\n",
    "    result = []\n",
    "    if len(L) < 2:\n",
    "        return L\n",
    "    mid = len(L) // 2\n",
    " \n",
    "    left = msort(L[:mid])\n",
    "    right = msort(L[mid:])\n",
    "    left_key = 0\n",
    "    right_key = 0\n",
    "    while left_key < len(left) and right_key < len(right):\n",
    "        if left[left_key] > right[right_key]:\n",
    "            result.append(right[right_key])\n",
    "            right_key += 1\n",
    "        else:\n",
    "            result.append(left[left_key])\n",
    "            left_key += 1 \n",
    "    result += left[left_key:] # anything past this index including itself\n",
    "    result += right[right_key:] # anything past this index including itself\n",
    "    return result\n",
    "\n",
    "sortedL = msort([3,1,2,7,5,9])\n",
    "print(sortedL)\n",
    "\"\"\"\n",
    "# simple\n",
    "# stack overflow\n",
    "# http://stackoverflow.com/questions/18761766/mergesort-python\n",
    "def msort(L):\n",
    "    if len(L) < 2:\n",
    "        return L\n",
    "    mid = len(L) // 2\n",
    " \n",
    "    left = msort(L[:mid])\n",
    "    right = msort(L[mid:])\n",
    "\n",
    "msort([1,2,3])\n",
    "\n",
    "\"\"\"\n",
    "\n",
    "\n",
    "\"\"\"\n",
    "# wikipedia algorith\n",
    "from copy import deepcopy\n",
    "\n",
    "def sort(A, T):\n",
    "  T = deepcopy(A)\n",
    "  split(T, 0, len(A), A)\n",
    "\n",
    "def split(T, start, end, A):\n",
    "  #print(T[start:end])\n",
    "  #if end - start < 2:\n",
    "  #  return\n",
    "  if len(T) < 2:\n",
    "      return\n",
    "  middle = (start + end) // 2\n",
    "  split(A[start:middle], start,middle, T)\n",
    "  split(A[middle:end], middle, end, T)\n",
    "  #merge(T, start, middle, end, A)\n",
    "\n",
    "#def start\n",
    "\n",
    "A = [3,1,4]\n",
    "T = []\n",
    "sort(A,T)\n",
    "\"\"\"\n",
    "\n",
    "\n",
    "\"\"\"\n",
    "from copy import deepcopy\n",
    "\n",
    "def sort(A, T):\n",
    "  T = deepcopy(A)\n",
    "  split(T, 0, len(A), A)\n",
    "\n",
    "def split(T, start, end, A):\n",
    "  #print(T[start:end])\n",
    "  if end - start < 2:\n",
    "    return\n",
    "  middle = (start + end) // 2\n",
    "  split(A, start, middle, T)\n",
    "  split(A, middle, end, T)\n",
    "  #merge(T, start, middle, end, A)\n",
    "\n",
    "#def start\n",
    "\n",
    "A = [3,1,4]\n",
    "T = []\n",
    "sort(A,T)\n",
    "\"\"\""
   ]
  }
 ],
 "metadata": {
  "kernelspec": {
   "display_name": "Python 3",
   "language": "python",
   "name": "python3"
  },
  "language_info": {
   "codemirror_mode": {
    "name": "ipython",
    "version": 3
   },
   "file_extension": ".py",
   "mimetype": "text/x-python",
   "name": "python",
   "nbconvert_exporter": "python",
   "pygments_lexer": "ipython3",
   "version": "3.4.0"
  }
 },
 "nbformat": 4,
 "nbformat_minor": 2
}
