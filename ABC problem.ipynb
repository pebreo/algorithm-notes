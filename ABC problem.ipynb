{
 "cells": [
  {
   "cell_type": "markdown",
   "metadata": {
    "collapsed": true
   },
   "source": [
    "## ABC Problem\n",
    "\n",
    "You are given a collection of ABC blocks   (maybe like the ones you had when you were a kid).\n",
    "\n",
    "There are twenty blocks with two letters on each block.\n",
    "\n",
    "A complete alphabet is guaranteed amongst all sides of the blocks.\n",
    "\n",
    "The sample collection of blocks:\n",
    "    \n",
    "(B O)\n",
    " (X K)\n",
    " (D Q)\n",
    " (C P)\n",
    " (N A)\n",
    " (G T)\n",
    " (R E)\n",
    " (T G)\n",
    " (Q D)\n",
    " (F S)\n",
    " (J W)\n",
    " (H U)\n",
    " (V I)\n",
    " (A N)\n",
    " (O B)\n",
    " (E R)\n",
    " (F S)\n",
    " (L Y)\n",
    " (P C)\n",
    " (Z M)"
   ]
  },
  {
   "cell_type": "code",
   "execution_count": null,
   "metadata": {
    "collapsed": true
   },
   "outputs": [],
   "source": [
    "## Solution"
   ]
  },
  {
   "cell_type": "code",
   "execution_count": 12,
   "metadata": {
    "collapsed": false
   },
   "outputs": [
    {
     "name": "stdout",
     "output_type": "stream",
     "text": [
      "True\n",
      "False\n",
      "False\n"
     ]
    }
   ],
   "source": [
    "from collections import defaultdict\n",
    "# declare variable\n",
    "\n",
    "def can_make_word(word):\n",
    "    blocks = [      \n",
    "    ('B', 'O'),\n",
    "     ('X' ,'K'),\n",
    "     ('D' ,'Q'),\n",
    "     ('C', 'P'),\n",
    "     ('N', 'A'),\n",
    "     ('G', 'T'),\n",
    "     ('R', 'E'),\n",
    "     ('T', 'G'),\n",
    "     ('Q', 'D'),\n",
    "     ('F', 'S'),\n",
    "     ('J', 'W'),\n",
    "     ('H', 'U'),\n",
    "     ('V', 'I'),\n",
    "     ('A' ,'N'),\n",
    "     ('O' ,'B'),\n",
    "     ('E', 'R'),\n",
    "     ('F' ,'S'),\n",
    "     ('L' ,'Y'),\n",
    "     ('P', 'C'),\n",
    "     ('Z', 'M')\n",
    "    ]\n",
    "    # put into defaultdict\n",
    "\n",
    "    ublock = defaultdict(list)\n",
    "    for block in blocks:\n",
    "        ublock[tuple(sorted(list(block)))].append(block)\n",
    "\n",
    "    # loop through chars in a word\n",
    "    has_block = True\n",
    "    idx = 0\n",
    "    letters = list(word)\n",
    "    for letter in letters:\n",
    "        for block, block_items in ublock.items():\n",
    "            if letter in block:\n",
    "                if len(block_items) == 0:\n",
    "                    return False\n",
    "                ublock[block].pop()\n",
    "\n",
    "    return True\n",
    "print(can_make_word('BARK'))\n",
    "print(can_make_word('BOOK'))\n",
    "print(can_make_word('COMMON'))"
   ]
  },
  {
   "cell_type": "code",
   "execution_count": null,
   "metadata": {
    "collapsed": true
   },
   "outputs": [],
   "source": []
  }
 ],
 "metadata": {
  "kernelspec": {
   "display_name": "Python 3",
   "language": "python",
   "name": "python3"
  },
  "language_info": {
   "codemirror_mode": {
    "name": "ipython",
    "version": 3
   },
   "file_extension": ".py",
   "mimetype": "text/x-python",
   "name": "python",
   "nbconvert_exporter": "python",
   "pygments_lexer": "ipython3",
   "version": "3.4.0"
  }
 },
 "nbformat": 4,
 "nbformat_minor": 2
}
