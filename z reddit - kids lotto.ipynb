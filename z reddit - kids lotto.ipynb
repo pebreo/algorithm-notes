{
 "cells": [
  {
   "cell_type": "code",
   "execution_count": null,
   "metadata": {
    "collapsed": true
   },
   "outputs": [],
   "source": [
    "\"\"\"\n",
    "\n",
    "Kids Lotto challenge\n",
    "\n",
    "source: https://www.reddit.com/r/dailyprogrammer/comments/64jesw/20170410_challenge_310_easy_kids_lotto/\n",
    "\n",
    "Given a list of students, you should make a list of the random other students\n",
    "of n size.\n",
    "\n",
    "When each kid matches with another student on their list they are a match\n",
    "\n",
    "First kid to match with all their kids on their list wins\n",
    "example list:\n",
    "\n",
    "A;B;C;D\n",
    "\n",
    "example output:\n",
    "\n",
    "A > D;C;B\n",
    "B > A;D;B\n",
    "\n",
    "\n",
    "\"\"\"\n",
    "import random\n",
    "# from collections import  defaultdict\n",
    "\n",
    "def lotto(K, n):\n",
    "  kids = K.split(';')\n",
    "  kids = frozenset(kids)\n",
    "  final = {}\n",
    "\n",
    "  for k in kids:\n",
    "    attempt = frozenset(random.sample(kids-{k}, n))\n",
    "    # If our random samples are already final list then keep trying\n",
    "    #  to make a new one\n",
    "    while attempt in final:\n",
    "      print(\"re-try to make a new list for kid {}\".format(k))\n",
    "      attempt = frozenset(random.sample(kids-{k},n))\n",
    "    final[attempt] = k\n",
    "  \n",
    "  for items, name in final.items():\n",
    "    print(\"%s > %s\" % (name, items))\n",
    "\n",
    "lotto(\"A;B;C;D\", 2)\n",
    "\n",
    "\n"
   ]
  }
 ],
 "metadata": {
  "kernelspec": {
   "display_name": "Python 3",
   "language": "python",
   "name": "python3"
  },
  "language_info": {
   "codemirror_mode": {
    "name": "ipython",
    "version": 3
   },
   "file_extension": ".py",
   "mimetype": "text/x-python",
   "name": "python",
   "nbconvert_exporter": "python",
   "pygments_lexer": "ipython3",
   "version": "3.4.0"
  }
 },
 "nbformat": 4,
 "nbformat_minor": 2
}
