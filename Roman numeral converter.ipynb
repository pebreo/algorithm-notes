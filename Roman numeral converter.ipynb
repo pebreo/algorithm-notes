{
 "cells": [
  {
   "cell_type": "code",
   "execution_count": null,
   "metadata": {
    "collapsed": true
   },
   "outputs": [],
   "source": [
    "## Roman Numeral converter\n",
    "To convert Roman numerals to decimals,\n",
    "you can setup a mapping of the symbols to their decimals values as \n",
    "well as the maximum number of times that numeral can be used.\n",
    "For example, the numeral I can only be used a maximum of 3 times because 4 is \n",
    "represented as 1 less than 5 : IV.\n",
    "\n",
    "Here's the code:"
   ]
  },
  {
   "cell_type": "code",
   "execution_count": 2,
   "metadata": {
    "collapsed": false
   },
   "outputs": [
    {
     "name": "stdout",
     "output_type": "stream",
     "text": [
      "3000\n",
      "46\n"
     ]
    }
   ],
   "source": [
    "# inspiration: http://code.activestate.com/recipes/81611-roman-numerals/\n",
    "\n",
    "def roman_to_decimal(R):\n",
    "  roman_numeral_map = (\n",
    "    ('M',1000,3),('CM',900,1),\n",
    "    ('D',500,1),('CD',400,1),\n",
    "    ('C',100,3),('XC',90,1),\n",
    "    ('L',50,1),('XL',40,1),\n",
    "    ('X',10,3),('IX',9,1),\n",
    "    ('V',5,1),('IV',4,1),\n",
    "    ('I',1,3)\n",
    "    )\n",
    "    \n",
    "  user_input = R.upper()\n",
    "  \n",
    "  result, index = 0,0\n",
    "  # Roman numerals always written from highest value to lowest\n",
    "  for numeral, value, maxcount in roman_numeral_map:\n",
    "    count = 0\n",
    "    while user_input[index:index+len(numeral)] == numeral:\n",
    "      # How many of the numerals we have\n",
    "      count += 1\n",
    "      # Each numeral has a limit of the number of times it can be used \n",
    "      if count > maxcount:\n",
    "          raise \"string is not a valid roman numeral: %s\" % user_input\n",
    "      result += value\n",
    "      index += len(numeral)\n",
    "      \n",
    "  print(result)\n",
    "    \n",
    "roman_to_decimal(\"MMM\")\n",
    "roman_to_decimal(\"XLVI\")\n"
   ]
  },
  {
   "cell_type": "code",
   "execution_count": null,
   "metadata": {
    "collapsed": true
   },
   "outputs": [],
   "source": []
  }
 ],
 "metadata": {
  "kernelspec": {
   "display_name": "Python 3",
   "language": "python",
   "name": "python3"
  },
  "language_info": {
   "codemirror_mode": {
    "name": "ipython",
    "version": 3
   },
   "file_extension": ".py",
   "mimetype": "text/x-python",
   "name": "python",
   "nbconvert_exporter": "python",
   "pygments_lexer": "ipython3",
   "version": "3.4.0"
  }
 },
 "nbformat": 4,
 "nbformat_minor": 2
}
