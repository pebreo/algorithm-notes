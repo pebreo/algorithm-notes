{
 "cells": [
  {
   "cell_type": "code",
   "execution_count": null,
   "metadata": {
    "collapsed": true
   },
   "outputs": [],
   "source": [
    "## Fizbuzz\n",
    "A simple competency test in programming.\n",
    "Loop through integers.\n",
    "For integers that are multiples of 3 print fizz\n",
    "for integers that are multiples of 5 print buzz\n",
    "For integers that are multiples of 3 and 5 print fizzbuzz"
   ]
  },
  {
   "cell_type": "code",
   "execution_count": 3,
   "metadata": {
    "collapsed": false
   },
   "outputs": [
    {
     "name": "stdout",
     "output_type": "stream",
     "text": [
      "1\n",
      "2\n",
      "fizz\n",
      "4\n",
      "buzz\n",
      "fizz\n",
      "7\n",
      "8\n",
      "fizz\n",
      "buzz\n",
      "11\n",
      "fizz\n",
      "13\n",
      "14\n",
      "fizzbuzz\n"
     ]
    }
   ],
   "source": [
    "def fizzbuzz():\n",
    "    for n in range(1,16):\n",
    "        if (n % 3 == 0) and (n % 5 == 0):\n",
    "            print('fizzbuzz')\n",
    "        elif (n % 3 == 0):\n",
    "            print('fizz')\n",
    "        elif (n % 5 == 0):\n",
    "            print('buzz')\n",
    "        else:\n",
    "            print(n)\n",
    "fizzbuzz()"
   ]
  },
  {
   "cell_type": "code",
   "execution_count": null,
   "metadata": {
    "collapsed": true
   },
   "outputs": [],
   "source": []
  }
 ],
 "metadata": {
  "kernelspec": {
   "display_name": "Python 3",
   "language": "python",
   "name": "python3"
  },
  "language_info": {
   "codemirror_mode": {
    "name": "ipython",
    "version": 3
   },
   "file_extension": ".py",
   "mimetype": "text/x-python",
   "name": "python",
   "nbconvert_exporter": "python",
   "pygments_lexer": "ipython3",
   "version": "3.4.0"
  }
 },
 "nbformat": 4,
 "nbformat_minor": 2
}
